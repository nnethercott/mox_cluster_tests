{
 "cells": [
  {
   "cell_type": "code",
   "execution_count": 1,
   "id": "e3c68f23",
   "metadata": {},
   "outputs": [],
   "source": [
    "import re\n",
    "import numpy as np"
   ]
  },
  {
   "cell_type": "code",
   "execution_count": 16,
   "id": "4f292838",
   "metadata": {},
   "outputs": [],
   "source": [
    "data_raw = None\n",
    "with open(\"./sim2_py_out.txt\") as f:\n",
    "    data_raw = f.read()"
   ]
  },
  {
   "cell_type": "code",
   "execution_count": 15,
   "id": "10f33a3b",
   "metadata": {},
   "outputs": [],
   "source": [
    "#data_raw = data_raw.split(\"\\n\")"
   ]
  },
  {
   "cell_type": "code",
   "execution_count": 27,
   "id": "638f4666",
   "metadata": {},
   "outputs": [],
   "source": [
    "times = re.findall(\"(?<=\\[)\\d.*\\d\", data_raw)"
   ]
  },
  {
   "cell_type": "code",
   "execution_count": 31,
   "id": "782e1c09",
   "metadata": {},
   "outputs": [],
   "source": [
    "with open(\"./sim2_py_out_processed.txt\", 'w') as f:\n",
    "    for num in times:\n",
    "        f.write(num+'\\n')\n",
    "    "
   ]
  },
  {
   "cell_type": "code",
   "execution_count": null,
   "id": "d166f20e",
   "metadata": {},
   "outputs": [],
   "source": []
  }
 ],
 "metadata": {
  "kernelspec": {
   "display_name": "Python 3",
   "language": "python",
   "name": "python3"
  },
  "language_info": {
   "codemirror_mode": {
    "name": "ipython",
    "version": 3
   },
   "file_extension": ".py",
   "mimetype": "text/x-python",
   "name": "python",
   "nbconvert_exporter": "python",
   "pygments_lexer": "ipython3",
   "version": "3.9.3"
  }
 },
 "nbformat": 4,
 "nbformat_minor": 5
}
